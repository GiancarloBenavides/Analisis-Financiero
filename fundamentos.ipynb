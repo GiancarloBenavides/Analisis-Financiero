{
 "cells": [
  {
   "cell_type": "markdown",
   "metadata": {},
   "source": [
    "# Fundamentos de análisis financiero\n",
    "<p><code>Python en Jupyter Notebook</code></p>\n",
    "<p>Creado por <code>Giancarlo Ortiz</code> para el curso de <code>OYM</code></p>\n",
    "<style type=\"text/css\">\n",
    "    .formula {\n",
    "        background: #f7f7f7;\n",
    "        border-radius: 50px;\n",
    "        padding: 15px;\n",
    "    }\n",
    "    .border {\n",
    "        display: inline-block;\n",
    "        border: solid 1px rgba(204, 204, 204, 0.4);\n",
    "        border-bottom-color: rgba(187, 187, 187, 0.4);\n",
    "        border-radius: 3px;\n",
    "        box-shadow: inset 0 -1px 0 rgba(187, 187, 187, 0.4);\n",
    "        background-color: inherit !important;\n",
    "        vertical-align: middle;\n",
    "        color: inherit !important;\n",
    "        font-size: 11px;\n",
    "        padding: 3px 5px;\n",
    "        margin: 0 2px;\n",
    "    }\n",
    "</style>\n",
    "\n",
    "\n",
    "## Análisis Financiero\n",
    "Se refiere a una evaluación de la viabilidad, estabilidad y rentabilidad de un proyecto.\n",
    "\n",
    "## Agenda\n",
    "1. Fundamentos\n",
    "1. Valor económico\n",
    "1. Tasa de interés\n",
    "1. Análisis temporal"
   ]
  },
  {
   "cell_type": "code",
   "execution_count": 19,
   "metadata": {},
   "outputs": [],
   "source": [
    "# Importar módulos al cuaderno de Jupyter\n",
    "import numpy_financial as npf\n",
    "import pylab as pl"
   ]
  },
  {
   "cell_type": "markdown",
   "metadata": {},
   "source": [
    "## 1. Fundamentos\n",
    "---\n",
    "### 1.1 Interés\n",
    "Interés, en economía y finanzas, es un índice utilizado para medir la rentabilidad de las inversiones.\n",
    "\n",
    "### 1.2 Interés Simple\n",
    "Es el interés o beneficio que se obtiene de una inversión cuando los intereses producidos durante cada periodo de tiempo que dura la inversión se deben únicamente al capital inicial, ya que los beneficios o intereses no se capitalizan en cada uno de los periodos.\n",
    "\n",
    "\\begin{equation*}\n",
    "I_s = C \\cdot t_i \\cdot n  \\\\\n",
    "\\end{equation*}\n",
    "\n",
    ">Donde:\n",
    "> * $\\color{#a78a4d}{I_s}$ = Interés simple\n",
    "> * $\\color{#a78a4d}{C}$ = Capital\n",
    "> * $\\color{#a78a4d}{t_i}$ = Tasa por periodo\n",
    "> * $\\color{#a78a4d}{n}$ = Número de periodos\n",
    "\n",
    "\n",
    "### 1.3 Interés Compuesto\n",
    "En el caso de la tasa de interés compuesta, los intereses obtenidos en cada período se suman al capital inicial para generar nuevos intereses, ya que los beneficios o intereses se capitalizan en cada uno de los periodos.\n",
    "\n",
    "\\begin{equation*}\n",
    "I_c = C [ (1+t_i)^n-1 ]  \\\\\n",
    "\\end{equation*}\n",
    "\n",
    ">Donde:\n",
    "> * $\\color{#a78a4d}{I_c}$ = Interés simple\n",
    "> * $\\color{#a78a4d}{C}$ = Capital\n",
    "> * $\\color{#a78a4d}{t_i}$ = Tasa por periodo\n",
    "> * $\\color{#a78a4d}{n}$ = Número de periodos\n",
    "\n",
    "### <code>Ejemplo:</code> Interés\n",
    "---\n",
    "Si Alberto invierte US$ 1.000 dolares en JPMorgan y obtiene un rendimiento del 5% anual durante un período de tres años. \n",
    "* ¿Qué cantidad de intereses recibirá si retira cada año? \n",
    "* ¿Qué cantidad de intereses recibirá al final del tercer año?"
   ]
  },
  {
   "cell_type": "code",
   "execution_count": 69,
   "metadata": {},
   "outputs": [
    {
     "name": "stdout",
     "output_type": "stream",
     "text": [
      "| Tipo               | Interes   |\n",
      "----------------------------------\n",
      "| Simple por periodo |     50.00 |\n",
      "| Simple acumulado   |    600.00 |\n",
      "| Compuesto          |    795.86 |\n"
     ]
    }
   ],
   "source": [
    "# Ejemplo FV con python\n",
    "inversion = 1_000\n",
    "tasa = 0.05\n",
    "periodos = 12\n",
    "\n",
    "# Usando interés compuesto\n",
    "simple = inversion*tasa*periodos\n",
    "\n",
    "# Usando interés compuesto\n",
    "compuesto = inversion*((1+tasa)**periodos-1)\n",
    "\n",
    "# Salida estándar\n",
    "print(f\"| Tipo               | Interes   |\")\n",
    "print(f\"-\"*34)\n",
    "print(f\"| Simple por periodo | {inversion*tasa:9,.2f} |\")\n",
    "print(f\"| Simple acumulado   | {simple:9,.2f} |\")\n",
    "print(f\"| Compuesto          | {compuesto:9,.2f} |\")"
   ]
  },
  {
   "cell_type": "markdown",
   "metadata": {},
   "source": [
    "## 2. Valor económico del dinero\n",
    "---\n",
    "El valor del dinero en el tiempo se infiere de una conjetura ampliamente aceptada que supone que hay un mayor beneficio en recibir una suma de dinero ahora que recibir una suma idéntica más tarde.\n",
    "\n",
    ">Si definimos:\n",
    "> * $\\color{#a78a4d}{V_p}$ como valor actual o presente\n",
    "> * $\\color{#a78a4d}{V_f}$ como valor futuro (representa el valor del pago futuro)\n",
    "> * $\\color{#a78a4d}{t_i}$ como la tasa de Interes o descuento. (refleja nuestro costo de oportunidad)\n",
    "> * $\\color{#a78a4d}{n}$ como la cantidad de periodos (meses, años etc…) \n",
    "\n",
    "### 2.1 Valor futuro de una suma presente\n",
    "---\n",
    "Permite proyectar cómo se modificará el valor del dinero que tenemos actualmente considerando las distintas alternativas de inversión que tenemos disponibles.\n",
    "\n",
    "\\begin{equation*}\n",
    "V_f = V_p (1 + t_i)^n  \\\\\n",
    "\\end{equation*}\n",
    "\n",
    "### <code>Ejemplo:</code> Valor futuro de una suma presente\n",
    "---\n",
    "Imagina que estas ahorrando para la Universidad y quieres que tu cuenta alcance un valor de $50.000.000 en 10 años. La cuenta gana 7,5% de interés al año. Para encontrar la inversión que tienes que hacer hoy para alcanzar esta suma, reemplaza las variables en la ecuación del valor actual."
   ]
  },
  {
   "cell_type": "code",
   "execution_count": 20,
   "metadata": {},
   "outputs": [
    {
     "name": "stdout",
     "output_type": "stream",
     "text": [
      "deberías invertir : 24,259,696.42\n"
     ]
    }
   ],
   "source": [
    "# Ejemplo FV con python\n",
    "valor_deseado = 50_000_000\n",
    "tasa = 0.075\n",
    "periodos = 10\n",
    "\n",
    "# Usando la funcion fv de numpy\n",
    "valor_a_invertir = npf.pv(fv=valor_deseado, rate=tasa, nper=periodos, pmt=0)\n",
    "print(f\"deberías invertir : {-valor_a_invertir:,.2f}\")"
   ]
  },
  {
   "cell_type": "markdown",
   "metadata": {},
   "source": [
    "### 2.2 Valor presente de una suma futura\n",
    "---\n",
    "Puede definirse como el valor actual de una suma de dinero o flujos de efectivo futuros dada una tasa de rendimiento específica.\n",
    "\n",
    "\\begin{equation*}\n",
    "V_p = \\frac{V_f}{(1 + t_i)^n}  \\\\\n",
    "\\end{equation*}\n",
    "\n",
    "### <code>Ejemplo:</code> Valor presente de una suma futura\n",
    "---\n",
    "Imagina que estas ahorrando para la Universidad y quieres que tu cuenta alcance un valor de $50.000.000 en 10 años. La cuenta gana 7,5% de interés al año. Para encontrar la inversión que tienes que hacer hoy para alcanzar esta suma, reemplaza las variables en la ecuación del valor actual."
   ]
  },
  {
   "cell_type": "code",
   "execution_count": 32,
   "metadata": {},
   "outputs": [
    {
     "name": "stdout",
     "output_type": "stream",
     "text": [
      "deberías recibir : 60,500,000.00\n"
     ]
    }
   ],
   "source": [
    "# Ejemplo FV con python\n",
    "valor_invertido = 50_000_000\n",
    "tasa = 0.10\n",
    "periodos = 2\n",
    "\n",
    "# Usando la funcion fv de numpy\n",
    "valor_a_recibir = npf.fv(pv=valor_invertido, rate=tasa, nper=periodos, pmt=0)\n",
    "print(f\"deberías recibir : {-valor_a_recibir:,.2f}\")"
   ]
  },
  {
   "cell_type": "code",
   "execution_count": 46,
   "metadata": {},
   "outputs": [
    {
     "data": {
      "image/png": "[encoded data removed]",
      "text/plain": [
       "<Figure size 432x288 with 1 Axes>"
      ]
     },
     "metadata": {
      "needs_background": "light"
     },
     "output_type": "display_data"
    },
    {
     "data": {
      "text/plain": [
       "[0, 1, 2]"
      ]
     },
     "execution_count": 46,
     "metadata": {},
     "output_type": "execute_result"
    }
   ],
   "source": [
    "def incrementos(inicial, tasa, n):\n",
    "    periodos = list(range(0, n+1))\n",
    "    valores = []\n",
    "    for periodo in periodos:\n",
    "        valores.append(-npf.fv(pv=inicial, rate=tasa, nper=periodo, pmt=0))\n",
    "    \n",
    "    return periodos, valores\n",
    "\n",
    "names, values = incrementos(valor_invertido, tasa, periodos)\n",
    "\n",
    "# Creación de la figura de MatplotLib\n",
    "fig, ax = pl.subplots()\n",
    "\n",
    "\n",
    "# agregamos datos\n",
    "\n",
    "ax.bar(names, values)\n",
    "\n",
    "'''\n",
    "fig.set_size_inches(16, 4)\n",
    "\n",
    "ax.axvline(x=0, ymin=0.2, ymax=valor_invertido, linewidth=7, color=\"#ddd\")\n",
    "pl.xlim(-1, periodos+1)\n",
    "\n",
    "\n",
    "'''\n",
    "pl.ylim(0, -valor_a_recibir * 1.2)\n",
    "pl.show()\n",
    "names"
   ]
  },
  {
   "cell_type": "markdown",
   "metadata": {},
   "source": [
    "## 1. Error absoluto\n",
    "---\n",
    "El error absoluto por definición la diferencia entre el valor que se considera real y el valor aproximado, siempre es positivo; cuando se realizan $\\color{#a78a4d}{n}$ medidas de un mismo fenómeno se puede calcular como el promedio de los errores absolutos individuales o la raíz del error cuadrático medio.\n",
    "\n",
    "\n",
    "\\begin{align}\n",
    "e_{a} & = \\left| E \\right| = \\left| V_r-V_a \\right| \\\\\n",
    "EAM  & = \\frac{1}{n}  \\sum_{1}^n e_{a} =  \\frac{1}{n} \\sum_{1}^n \\left| V_r-V_a \\right| \\\\\n",
    "RECM & =  \\sqrt{ \\frac{1}{n} \\sum_{1}^n \\left( V_r-V_a \\right)^2 } \\\\\n",
    "\\end{align}\n"
   ]
  },
  {
   "cell_type": "code",
   "execution_count": 3,
   "metadata": {},
   "outputs": [
    {
     "name": "stdout",
     "output_type": "stream",
     "text": [
      "-------------------------------------------------------------------------\n",
      "| No |  T [s]   |  To [s]    |   g[m/s²]  | ERROR REAL | ERROR ABSOLUTO |\n",
      "-------------------------------------------------------------------------\n",
      "| No | V Medido | V aparente | V aparente | Individual |   Individual   |\n",
      "-------------------------------------------------------------------------\n",
      "|  1 |    2.106 |      2.028 |     9.6006 |     0.2172 |         0.2172 |\n",
      "|  2 |    2.101 |      2.023 |     9.6464 |     0.1715 |         0.1715 |\n",
      "|  3 |    2.098 |      2.020 |     9.6740 |     0.1439 |         0.1439 |\n",
      "|  4 |    2.087 |      2.010 |     9.7762 |     0.0416 |         0.0416 |\n",
      "|  5 |    2.073 |      1.996 |     9.9087 |    -0.0909 |         0.0909 |\n",
      "|  6 |    2.070 |      1.993 |     9.9375 |    -0.1196 |         0.1196 |\n",
      "|  7 |    2.064 |      1.987 |     9.9953 |    -0.1775 |         0.1775 |\n",
      "|  8 |    2.059 |      1.983 |    10.0439 |    -0.2261 |         0.2261 |\n",
      "|  9 |    2.057 |      1.981 |    10.0635 |    -0.2456 |         0.2456 |\n",
      "| 10 |    2.052 |      1.976 |    10.1126 |    -0.2947 |         0.2947 |\n",
      "-------------------------------------------------------------------------\n",
      "| P  |    2.077 |      2.000 |     9.8759 |    -0.0580 |         0.1729 |\n",
      "-------------------------------------------------------------------------\n",
      "| D  |    0.019 |      0.018 |     0.1782 |     0.1782 |         0.0725 |\n",
      "-------------------------------------------------------------------------\n",
      "Error Absoluto Medio - EAM:               0.1729\n",
      "Raíz Error Cuadrático Medio - RECM:       0.1875\n",
      "-------------------------------------------------------------------------\n"
     ]
    }
   ],
   "source": [
    "# Error Absoluto\n",
    "ea_ga = abs(Et_ga)\n",
    "\n",
    "# Media aritmética (Promedio - P)\n",
    "P_ea = sum(ea_ga) / len(ea_ga)\n",
    "\n",
    "# Desviación típica (Desviación - D)\n",
    "D_ea = ((1/len(ea_ga)) * sum((P_ea - ea_ga)**2))**(1/2)\n",
    "\n",
    "# Otros Promedios\n",
    "EAM = sum(ea_ga) / len(ea_ga)\n",
    "RECM = ((1/len(Et_ga)) * sum((Et_ga)**2))**(1/2)\n",
    "\n",
    "# Salida estándar\n",
    "print(f\"-------------------------------------------------------------------------\")\n",
    "print(f\"| No |  T [s]   |  To [s]    |   g[m/s²]  | ERROR REAL | ERROR ABSOLUTO |\")\n",
    "print(f\"-------------------------------------------------------------------------\")\n",
    "print(f\"| No | V Medido | V aparente | V aparente | Individual |   Individual   |\")\n",
    "print(f\"-------------------------------------------------------------------------\")\n",
    "for N in range(len(Tr)):\n",
    "    print(f\"| {N+1:2} | {Ti[N]:8.3f} | {To[N]:10.3f} | {ga[N]:10.4f} | {Et_ga[N]:10.4f} | {ea_ga[N]:14.4f} |\")\n",
    "\n",
    "print(f\"-------------------------------------------------------------------------\")\n",
    "print(f\"| P  | {P_Ti:8.3f} | {P_To:10.3f} | {P_ga:10.4f} | {P_Et:10.4f} | {P_ea:14.4f} |\")\n",
    "print(f\"-------------------------------------------------------------------------\")\n",
    "print(f\"| D  | {D_Ti:8.3f} | {D_To:10.3f} | {D_ga:10.4f} | {D_Et:10.4f} | {D_ea:14.4f} |\")\n",
    "print(f\"-------------------------------------------------------------------------\")\n",
    "print(f\"Error Absoluto Medio - EAM:             {EAM:8.4f}\")\n",
    "print(f\"Raíz Error Cuadrático Medio - RECM:     {RECM:8.4f}\")\n",
    "print(f\"-------------------------------------------------------------------------\")"
   ]
  },
  {
   "cell_type": "markdown",
   "metadata": {},
   "source": [
    "## 3. Error relativo\n",
    "---\n",
    "Es el proceso de operar cifras aproximadas o truncadas.\n",
    "\n",
    "\\begin{align}\n",
    "e_{r} & = \\frac{E}{V_r} = \\frac{ \\left| V_r-V_a \\right| }{V_r} \\\\\n",
    "\\overline{e_{r}} & = \\frac{EAM}{V_r} =  \\frac{1}{n} \\sum_{1}^n \\frac{ \\left| V_r-V_a \\right| }{V_r} \\\\\n",
    "\\end{align}\n"
   ]
  },
  {
   "cell_type": "code",
   "execution_count": 4,
   "metadata": {},
   "outputs": [
    {
     "name": "stdout",
     "output_type": "stream",
     "text": [
      "------------------------------------------------------------------------------------------\n",
      "| No |  T [s]   |  To [s]    |   g[m/s²]  | ERROR REAL | ERROR ABSOLUTO | ERROR RELATIVO |\n",
      "------------------------------------------------------------------------------------------\n",
      "| No | V Medido | V aparente | V aparente | Individual |   Individual   |   Individual   |\n",
      "------------------------------------------------------------------------------------------\n",
      "|  1 |    2.106 |      2.028 |     9.6006 |     0.2172 |         0.2172 |         2.21 % |\n",
      "|  2 |    2.101 |      2.023 |     9.6464 |     0.1715 |         0.1715 |         1.75 % |\n",
      "|  3 |    2.098 |      2.020 |     9.6740 |     0.1439 |         0.1439 |         1.47 % |\n",
      "|  4 |    2.087 |      2.010 |     9.7762 |     0.0416 |         0.0416 |         0.42 % |\n",
      "|  5 |    2.073 |      1.996 |     9.9087 |    -0.0909 |         0.0909 |         0.93 % |\n",
      "|  6 |    2.070 |      1.993 |     9.9375 |    -0.1196 |         0.1196 |         1.22 % |\n",
      "|  7 |    2.064 |      1.987 |     9.9953 |    -0.1775 |         0.1775 |         1.81 % |\n",
      "|  8 |    2.059 |      1.983 |    10.0439 |    -0.2261 |         0.2261 |         2.30 % |\n",
      "|  9 |    2.057 |      1.981 |    10.0635 |    -0.2456 |         0.2456 |         2.50 % |\n",
      "| 10 |    2.052 |      1.976 |    10.1126 |    -0.2947 |         0.2947 |         3.00 % |\n",
      "------------------------------------------------------------------------------------------\n",
      "| P  |    2.077 |      2.000 |     9.8759 |    -0.0580 |         0.1729 |         1.76 % |\n",
      "------------------------------------------------------------------------------------------\n",
      "| D  |    0.019 |      0.018 |     0.1782 |     0.1782 |         0.0725 |         0.74 % |\n",
      "------------------------------------------------------------------------------------------\n",
      "Error Absoluto Medio - EAM:               0.1729\n",
      "Raíz Porcentual Medio - EPM:              1.76 %\n",
      "------------------------------------------------------------------------------------------\n"
     ]
    }
   ],
   "source": [
    "# Error Absoluto\n",
    "er_ga = 100 * ea_ga / g\n",
    "\n",
    "# Media aritmética (Promedio - P)\n",
    "P_er = sum(er_ga) / len(er_ga)\n",
    "\n",
    "# Desviación típica (Desviación - D)\n",
    "D_er = ((1/len(er_ga)) * sum((P_er - er_ga)**2))**(1/2)\n",
    "\n",
    "# Otros Promedios\n",
    "EPM = sum(er_ga) / len(er_ga)\n",
    "\n",
    "# Salida estándar\n",
    "print(f\"------------------------------------------------------------------------------------------\")\n",
    "print(f\"| No |  T [s]   |  To [s]    |   g[m/s²]  | ERROR REAL | ERROR ABSOLUTO | ERROR RELATIVO |\")\n",
    "print(f\"------------------------------------------------------------------------------------------\")\n",
    "print(f\"| No | V Medido | V aparente | V aparente | Individual |   Individual   |   Individual   |\")\n",
    "print(f\"------------------------------------------------------------------------------------------\")\n",
    "for N in range(len(Tr)):\n",
    "    print(f\"| {N+1:2} | {Ti[N]:8.3f} | {To[N]:10.3f} | {ga[N]:10.4f} | {Et_ga[N]:10.4f} | {ea_ga[N]:14.4f} | {er_ga[N]:12.2f} % |\")\n",
    "\n",
    "print(f\"------------------------------------------------------------------------------------------\")\n",
    "print(f\"| P  | {P_Ti:8.3f} | {P_To:10.3f} | {P_ga:10.4f} | {P_Et:10.4f} | {P_ea:14.4f} | {P_er:12.2f} % |\")\n",
    "print(f\"------------------------------------------------------------------------------------------\")\n",
    "print(f\"| D  | {D_Ti:8.3f} | {D_To:10.3f} | {D_ga:10.4f} | {D_Et:10.4f} | {D_ea:14.4f} | {D_er:12.2f} % |\")\n",
    "print(f\"------------------------------------------------------------------------------------------\")\n",
    "print(f\"Error Absoluto Medio - EAM:             {EAM:8.4f}\")\n",
    "print(f\"Raíz Porcentual Medio - EPM:            {EPM:6.2f} %\")\n",
    "print(f\"------------------------------------------------------------------------------------------\")"
   ]
  },
  {
   "cell_type": "markdown",
   "metadata": {},
   "source": [
    "# Incertidumbre\n",
    "---\n",
    "**Incertidumbre:** Es una medida del ajuste o cálculo que debe hacerse de una cantidad con respecto al valor que se supone real de dicha magnitud; esto como una medida que refleje las características ignoradas de la magnitud o los errores cometidos para calcularla. Finalmente, esto significa que un valor aparente se puede representar expresando una cantidad como la suma de un valor confiable sumado a un intervalo de incertidumbre.\n",
    "\n",
    "\\begin{equation*}\n",
    "V_a = \\overline{x} \\pm \\Delta x \\\\\n",
    "\\end{equation*}\n",
    "\n",
    "El valor confiable en algunos casos se puede expresar como el _**valor promedio**_ de la cantidad a representar y la incertidumbre como la _**Desviación típica o estándar**_, que es una medida del ajuste o cálculo de una magnitud con respecto al valor que se supone real de dicha magnitud.\n",
    "\n",
    "\\begin{align}\n",
    "V_a & = \\mu \\pm \\sigma \\\\\n",
    "\\mu & =  \\frac{1}{n} \\sum_{1}^n x_i \\\\\n",
    "\\sigma & = \\sqrt{ \\frac{1}{n} \\sum_{1}^n \\left( \\mu - x_i \\right)^2 } \\\\\n",
    "\\end{align}"
   ]
  },
  {
   "cell_type": "code",
   "execution_count": 5,
   "metadata": {},
   "outputs": [
    {
     "name": "stdout",
     "output_type": "stream",
     "text": [
      "-----------------------------------------------\n",
      "Valor promedio de T:             1.9996\n",
      "Incertidumbre del grupo T:       0.0181\n",
      "Valor aparente del grupo:        2.0000 ± 0.02\n",
      "-----------------------------------------------\n",
      "Valor promedio de g:             9.8759\n",
      "Incertidumbre del grupo g:       0.1782\n",
      "Valor aparente del grupo:        9.9000 ± 0.2\n",
      "-----------------------------------------------\n",
      "Valor del modelo algebraico:     9.8179\n",
      "-----------------------------------------------\n"
     ]
    }
   ],
   "source": [
    "# Valor aparente del periodo\n",
    "μT = sum(To) / len(To)                      # Valor promedio\n",
    "DT = (sum((μT - To)**2) / len(To))**(1/2)   # Valor promedio\n",
    "\n",
    "# Valor aparente de la gravedad\n",
    "μg = P_ga                                   # Valor promedio\n",
    "Dg = (sum((μg - ga)**2) / len(ga))**(1/2)   # Incertidumbre\n",
    "\n",
    "# Una convención aceptada es expresar la incertidumbre en una sola cifra significativa\n",
    "ΔT = _significativas(DT, 1)\n",
    "Δg = _significativas(Dg, 1)\n",
    "\n",
    "# Valores medios normalizados\n",
    "μT_n = _normalizar(μT, ΔT)\n",
    "μg_n = _normalizar(μg, Δg)\n",
    "\n",
    "# Salida estándar\n",
    "print(f\"-----------------------------------------------\")\n",
    "print(f\"Valor promedio de T:           {μT:8.4f}\")\n",
    "print(f\"Incertidumbre del grupo T:     {DT:8.4f}\")\n",
    "print(f\"Valor aparente del grupo:      {μT_n:8.4f} ± {ΔT}\")\n",
    "print(f\"-----------------------------------------------\")\n",
    "print(f\"Valor promedio de g:           {μg:8.4f}\")\n",
    "print(f\"Incertidumbre del grupo g:     {Dg:8.4f}\")\n",
    "print(f\"Valor aparente del grupo:      {μg_n:8.4f} ± {Δg}\")\n",
    "print(f\"-----------------------------------------------\")\n",
    "print(f\"Valor del modelo algebraico:   {g:8.4f}\")\n",
    "print(f\"-----------------------------------------------\")"
   ]
  },
  {
   "cell_type": "markdown",
   "metadata": {
    "colab_type": "text",
    "id": "-Rh3-Vt9Nev9"
   },
   "source": [
    "---\n",
    "## Mas Recursos\n",
    "\n",
    "- [Métodos de redondeo](https://en.wikipedia.org/wiki/Rounding) (Wikipedia)\n",
    "- [Error experimental](https://es.wikipedia.org/wiki/Error_experimental) (Wikipedia)\n",
    "- [Error de aproximación](https://es.wikipedia.org/wiki/Error_de_aproximaci%C3%B3n) (Wikipedia)\n",
    "- [Error absoluto medio](https://es.wikipedia.org/wiki/Error_absoluto_medio) (Wikipedia)\n",
    "\n"
   ]
  }
 ],
 "metadata": {
  "kernelspec": {
   "display_name": "Python 3.8.2 32-bit",
   "metadata": {
    "interpreter": {
     "hash": "dcfa17eba1dc66845e0904f61caf004065b70fa6c516601030b63e53c64813c1"
    }
   },
   "name": "python3"
  },
  "language_info": {
   "codemirror_mode": {
    "name": "ipython",
    "version": 3
   },
   "file_extension": ".py",
   "mimetype": "text/x-python",
   "name": "python",
   "nbconvert_exporter": "python",
   "pygments_lexer": "ipython3",
   "version": "3.9.9"
  }
 },
 "nbformat": 4,
 "nbformat_minor": 1
}
