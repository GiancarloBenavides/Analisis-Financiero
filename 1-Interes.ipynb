{
 "cells": [
  {
   "cell_type": "markdown",
   "metadata": {},
   "source": [
    "# Fundamentos de análisis financiero\n",
    "<p><code>Python en Jupyter Notebook</code></p>\n",
    "<p>Creado por <code>Giancarlo Ortiz</code> para el curso de <code>OYM</code></p>\n",
    "<style type=\"text/css\">\n",
    "    .formula {\n",
    "        background: #f7f7f7;\n",
    "        border-radius: 50px;\n",
    "        padding: 15px;\n",
    "    }\n",
    "    .border {\n",
    "        display: inline-block;\n",
    "        border: solid 1px rgba(204, 204, 204, 0.4);\n",
    "        border-bottom-color: rgba(187, 187, 187, 0.4);\n",
    "        border-radius: 3px;\n",
    "        box-shadow: inset 0 -1px 0 rgba(187, 187, 187, 0.4);\n",
    "        background-color: inherit !important;\n",
    "        vertical-align: middle;\n",
    "        color: inherit !important;\n",
    "        font-size: 11px;\n",
    "        padding: 3px 5px;\n",
    "        margin: 0 2px;\n",
    "    }\n",
    "</style>\n",
    "\n",
    "\n",
    "## Interés\n",
    "Se refiere a una evaluación de la viabilidad, estabilidad y rentabilidad de un proyecto.\n",
    "\n",
    "## Agenda\n",
    "1. Interés simple\n",
    "1. Interés compuesto\n",
    "1. Variación del interés\n",
    "1. Tasa de interés efectiva"
   ]
  },
  {
   "cell_type": "code",
   "execution_count": 1,
   "metadata": {},
   "outputs": [],
   "source": [
    "# Importar módulos al cuaderno de Jupyter\n",
    "import numpy_financial as npf\n",
    "import pylab as pl\n",
    "\n",
    "\n",
    "# Definir e incluir nuevas funciones al cuaderno de Jupyter\n",
    "def incrementos(inicial: float, tasa: float, n: int) -> tuple:\n",
    "    ''' Funcion que calcula los incrementos progresivos de un valor presente '''\n",
    "    periodos = list(range(0, n+1))\n",
    "    valores = []\n",
    "    for periodo in periodos:\n",
    "        valores.append(-npf.fv(pv=inicial, rate=tasa, nper=periodo, pmt=0))\n",
    "\n",
    "    return periodos, valores\n",
    "\n",
    "\n",
    "def millones(x: int, pos) -> str:\n",
    "    \"\"\" Funcion que formatea los valores del un eje en moneda y en millones \"\"\"\n",
    "    return '${:1.1f}M'.format(x*1e-6)\n"
   ]
  },
  {
   "cell_type": "markdown",
   "metadata": {},
   "source": [
    "## 1.1 Interés simple\n",
    "Es el interés o beneficio que se obtiene de una inversión cuando los intereses producidos durante cada periodo de tiempo que dura la inversión se deben únicamente al capital inicial, ya que los beneficios o intereses no se capitalizan en cada uno de los periodos.\n",
    "\n",
    "\\begin{equation*}\n",
    "I_s = C \\cdot t_i \\cdot n  \\\\\n",
    "\\end{equation*}\n",
    "\n",
    ">Donde:\n",
    "> * $\\color{#a78a4d}{I_s}$ = Interés simple\n",
    "> * $\\color{#a78a4d}{C}$ = Capital\n",
    "> * $\\color{#a78a4d}{t_i}$ = Tasa por periodo\n",
    "> * $\\color{#a78a4d}{n}$ = Número de periodos\n",
    "\n",
    "\n",
    "## 1.2 Interés compuesto\n",
    "En el caso de la tasa de interés compuesta, los intereses obtenidos en cada período se suman al capital inicial para generar nuevos intereses, ya que los beneficios o intereses se capitalizan en cada uno de los periodos.\n",
    "\n",
    "\\begin{equation*}\n",
    "I_c = C [ (1+t_i)^n-1 ]  \\\\\n",
    "\\end{equation*}\n",
    "\n",
    ">Donde:\n",
    "> * $\\color{#a78a4d}{I_c}$ = Interés simple\n",
    "> * $\\color{#a78a4d}{C}$ = Capital\n",
    "> * $\\color{#a78a4d}{t_i}$ = Tasa por periodo\n",
    "> * $\\color{#a78a4d}{n}$ = Número de periodos\n",
    "\n",
    "\n",
    "\n",
    "## 1.3 Variación del interés\n",
    "Para corregir fluctuaciones económicas existen modelos de interés que Varian la tasa en el tiempo.\n",
    "\n",
    "| # | __Fijo__ | __Variable__ |\n",
    "|:---:|---|---|\n",
    "| 1 | No cambia a lo largo del tiempo | Va cambiando a lo largo del tiempo |\n",
    "| 2 | No depende de ninguna variable económica | Depende de variables que afectan el valor del dinero como la inflación |\n",
    "| 3 | Resultara en una cuota fija o variable | Dará como resultado una cuota variable |\n",
    "| _E_ | _Ejemplo:_ | _Ejemplo:_ |\n",
    "| 4 | Crédito hipotecario en pesos | Crédito hipotecario en [UVR][132] |\n",
    "\n",
    "[132]:http://www.banrep.gov.co/es/estadisticas/unidad-valor-real-uv\n",
    "\n",
    "\n",
    "\n",
    "### <code>Ejemplo:</code> Interés\n",
    "---\n",
    "Si Alberto invierte US$ 1.000 dolares en JPMorgan y obtiene un rendimiento del 5% anual durante un período de tres años. \n",
    "* ¿Qué cantidad de intereses recibirá si retira cada año? \n",
    "* ¿Qué cantidad de intereses recibirá al final del tercer año?"
   ]
  },
  {
   "cell_type": "code",
   "execution_count": 2,
   "metadata": {},
   "outputs": [
    {
     "name": "stdout",
     "output_type": "stream",
     "text": [
      "----------------------------------\n",
      "| Tipo               | Interés   |\n",
      "----------------------------------\n",
      "| Simple por periodo |     15.00 |\n",
      "| Simple acumulado   |    180.00 |\n",
      "| Compuesto          |    195.62 |\n",
      "| Diferencia         |     15.62 |\n",
      "----------------------------------\n"
     ]
    }
   ],
   "source": [
    "# Ejemplo FV con python\n",
    "inversion = 1_000\n",
    "tasa = 1.5/100\n",
    "periodos = 12\n",
    "\n",
    "# Usando interés compuesto\n",
    "simple = inversion*tasa*periodos\n",
    "\n",
    "# Usando interés compuesto\n",
    "compuesto = inversion*((1+tasa)**periodos-1)\n",
    "\n",
    "# Salida estándar\n",
    "print(f\"-\"*34)\n",
    "print(f\"| Tipo               | Interés   |\")\n",
    "print(f\"-\"*34)\n",
    "print(f\"| Simple por periodo | {inversion*tasa:9,.2f} |\")\n",
    "print(f\"| Simple acumulado   | {simple:9,.2f} |\")\n",
    "print(f\"| Compuesto          | {compuesto:9,.2f} |\")\n",
    "print(f\"| Diferencia         | {compuesto-simple:9,.2f} |\")\n",
    "print(f\"-\"*34)\n"
   ]
  },
  {
   "cell_type": "markdown",
   "metadata": {},
   "source": [
    "## 1.4 Tasa de interés efectiva\n",
    "Se dice que dos tasas de interés compuesto son equivalentes si con diferentes periodos de capitalización producen iguales intereses en el mismo plazo\n",
    "\n",
    "\\begin{equation*}\n",
    "t_n = (1+t_m)^{ \\frac{n}{m}} -1  \\\\\n",
    "\\end{equation*}\n",
    "\n",
    ">Donde:\n",
    "> * $\\color{#a78a4d}{t_n}$ = tasa de interés efectiva por periodo $\\color{#a78a4d}{n}$\n",
    "> * $\\color{#a78a4d}{t_m}$ = tasa de interés efectiva por periodo $\\color{#a78a4d}{m}$\n",
    "> * $\\color{#a78a4d}{n}$ = cantidad de meses en el periodo n\n",
    "> * $\\color{#a78a4d}{m}$ = cantidad de meses en el periodo m\n",
    "\n",
    "### <code>Ejemplo:</code> Tasa de interés CDT\n",
    "---\n",
    "Encontrar las tasas equivalentes al 3% (E.A.) para capitalización [CDT][1141] a 180 días mínimo:\n",
    "* Semestral \n",
    "* Trimestral\n",
    "* Mensual\n",
    "\n",
    "[1141]:https://www.bancolombia.com/personas/productos-servicios/inversiones/inversion-virtual?gclid=Cj0KCQiA6NOPBhCPARIsAHAy2zAvJ7qRdM1BvTXRpCGQ1_C84zILI4T66lN6zC-2BAEu4MMBA9GriCgaAuwmEALw_wcB"
   ]
  },
  {
   "cell_type": "code",
   "execution_count": 3,
   "metadata": {},
   "outputs": [
    {
     "name": "stdout",
     "output_type": "stream",
     "text": [
      "----------------------------------\n",
      "| Tasas equivalentes | Interés   |\n",
      "----------------------------------\n",
      "| Tasa Mensual       |     0.25% |\n",
      "| Tasa Trimestral    |     0.74% |\n",
      "| Tasa Semestral     |     1.49% |\n",
      "| Tasa Anual         |     3.00% |\n",
      "----------------------------------\n"
     ]
    }
   ],
   "source": [
    "tasa_anual = 3/100\n",
    "\n",
    "\n",
    "# Define funciones\n",
    "def tasa_equivalente(tasa: float, nper: int, mper: int) -> float:\n",
    "    ''' Funcion para calcular una tasa equivalente '''\n",
    "    return (1+tasa)**(nper/mper)-1\n",
    "\n",
    "\n",
    "# Calcular las tasas de interés equivalentes\n",
    "tasa_semestral = tasa_equivalente(tasa_anual, 6, 12)\n",
    "tasa_trimestral = tasa_equivalente(tasa_anual, 3, 12)\n",
    "tasa_mensual = tasa_equivalente(tasa_anual, 1, 12)\n",
    "\n",
    "# Salida estándar\n",
    "print(f\"-\"*34)\n",
    "print(f\"| Tasas equivalentes | Interés   |\")\n",
    "print(f\"-\"*34)\n",
    "print(f\"| Tasa Mensual       | {100*tasa_mensual:8,.2f}% |\")\n",
    "print(f\"| Tasa Trimestral    | {100*tasa_trimestral:8,.2f}% |\")\n",
    "print(f\"| Tasa Semestral     | {100*tasa_semestral:8,.2f}% |\")\n",
    "print(f\"| Tasa Anual         | {100*tasa_anual:8,.2f}% |\")\n",
    "print(f\"-\"*34)\n"
   ]
  },
  {
   "cell_type": "markdown",
   "metadata": {},
   "source": [
    "### <code>Ejemplo:</code> Tasa de interés tarjeta de crédito\n",
    "---\n",
    "Encontrar las tasas equivalentes al 1.99775% mensual que se paga por compras con [Tarjeta de crédito Mastercard][1142]:\n",
    "* Trimestral\n",
    "* Semestral \n",
    "* Anual\n",
    "\n",
    "[1142]:https://www.bancolombia.com/personas/tarjetas-de-credito/mastercard/clasica"
   ]
  },
  {
   "cell_type": "code",
   "execution_count": 4,
   "metadata": {},
   "outputs": [
    {
     "name": "stdout",
     "output_type": "stream",
     "text": [
      "----------------------------------\n",
      "| Tasas equivalentes | Interés   |\n",
      "----------------------------------\n",
      "| Tasa Mensual       |     1.98% |\n",
      "| Tasa Trimestral    |     6.05% |\n",
      "| Tasa Semestral     |    12.47% |\n",
      "| Tasa Anual         |    26.49% |\n",
      "----------------------------------\n"
     ]
    }
   ],
   "source": [
    "tasa_mensual = 1.9775/100\n",
    "\n",
    "\n",
    "# Calcular las tasas de interés equivalentes\n",
    "tasa_trimestral = tasa_equivalente(tasa_mensual, 3, 1)\n",
    "tasa_semestral = tasa_equivalente(tasa_mensual, 6, 1)\n",
    "tasa_anual = tasa_equivalente(tasa_mensual, 12, 1)\n",
    "\n",
    "\n",
    "# Salida estándar\n",
    "print(f\"-\"*34)\n",
    "print(f\"| Tasas equivalentes | Interés   |\")\n",
    "print(f\"-\"*34)\n",
    "print(f\"| Tasa Mensual       | {100*tasa_mensual:8,.2f}% |\")\n",
    "print(f\"| Tasa Trimestral    | {100*tasa_trimestral:8,.2f}% |\")\n",
    "print(f\"| Tasa Semestral     | {100*tasa_semestral:8,.2f}% |\")\n",
    "print(f\"| Tasa Anual         | {100*tasa_anual:8,.2f}% |\")\n",
    "print(f\"-\"*34)\n"
   ]
  },
  {
   "cell_type": "markdown",
   "metadata": {},
   "source": [
    "#### 1.1.4 Liquidación del interés\n",
    "Existe un modelo de interes de __tasa nominal__ que no se liquida por unidad de tiempo; en su lugar se liquida por fracción de la unidad de tiempo.\n",
    "Para evitar que se confunda con el interes efectivo $i$ el símbolo internacional para el interés nominal es la letra $j(m)$, donde $m$ es el número de pagos del interés por unidad de tiempo.\n",
    "\n",
    "\\begin{equation*}\n",
    "j(n) = j(m) \\frac{n}{m} \\\\\n",
    "\\end{equation*}"
   ]
  },
  {
   "cell_type": "markdown",
   "metadata": {
    "colab_type": "text",
    "id": "-Rh3-Vt9Nev9"
   },
   "source": [
    "---\n",
    "## Mas Recursos\n",
    "\n",
    "- [Análisis financiero](https://es.wikipedia.org/wiki/An%C3%A1lisis_financiero) (Wikipedia)\n",
    "- [Riqueza](https://es.wikipedia.org/wiki/Riqueza) (Wikipedia)\n",
    "- [Desigualdad social](https://es.wikipedia.org/wiki/Desigualdad_social) (Wikipedia)\n",
    "- [Desigualdad de ingreso](https://es.wikipedia.org/wiki/Desigualdad_de_ingreso) (Wikipedia)\n",
    "- [Valuación](https://es.wikipedia.org/wiki/Valuaci%C3%B3n) (Wikipedia)\n"
   ]
  }
 ],
 "metadata": {
  "kernelspec": {
   "display_name": "Python 3.8.2 32-bit",
   "metadata": {
    "interpreter": {
     "hash": "dcfa17eba1dc66845e0904f61caf004065b70fa6c516601030b63e53c64813c1"
    }
   },
   "name": "python3"
  },
  "language_info": {
   "codemirror_mode": {
    "name": "ipython",
    "version": 3
   },
   "file_extension": ".py",
   "mimetype": "text/x-python",
   "name": "python",
   "nbconvert_exporter": "python",
   "pygments_lexer": "ipython3",
   "version": "3.9.9"
  }
 },
 "nbformat": 4,
 "nbformat_minor": 1
}
