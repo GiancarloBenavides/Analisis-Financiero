{
 "cells": [
  {
   "cell_type": "markdown",
   "metadata": {},
   "source": [
    "# Fundamentos de análisis financiero\n",
    "<p><code>Python en Jupyter Notebook</code></p>\n",
    "<p>Creado por <code>Giancarlo Ortiz</code> para el curso de <code>OYM</code></p>\n",
    "<style type=\"text/css\">\n",
    "    .formula {\n",
    "        background: #f7f7f7;\n",
    "        border-radius: 50px;\n",
    "        padding: 15px;\n",
    "    }\n",
    "    .border {\n",
    "        display: inline-block;\n",
    "        border: solid 1px rgba(204, 204, 204, 0.4);\n",
    "        border-bottom-color: rgba(187, 187, 187, 0.4);\n",
    "        border-radius: 3px;\n",
    "        box-shadow: inset 0 -1px 0 rgba(187, 187, 187, 0.4);\n",
    "        background-color: inherit !important;\n",
    "        vertical-align: middle;\n",
    "        color: inherit !important;\n",
    "        font-size: 11px;\n",
    "        padding: 3px 5px;\n",
    "        margin: 0 2px;\n",
    "    }\n",
    "</style>\n",
    "\n",
    "\n",
    "## Análisis Financiero\n",
    "Se refiere a una evaluación de la rentabilidad y estabilidad de un proyecto para determinar su viabilidad.\n",
    "\n",
    "## Agenda\n",
    "1. Rentabilidad\n",
    "1. Estabilidad\n",
    "1. Devaluación\n",
    "1. Inflación"
   ]
  },
  {
   "cell_type": "code",
   "execution_count": 1,
   "metadata": {},
   "outputs": [],
   "source": [
    "# Importar módulos al cuaderno de Jupyter\n",
    "import numpy_financial as npf\n",
    "import pylab as pl\n"
   ]
  },
  {
   "cell_type": "markdown",
   "metadata": {},
   "source": [
    "## 1.1 Rentabilidad\n",
    "---\n",
    "La capacidad para obtener ingresos y sostener el crecimiento tanto a corto como a largo plazo. El grado de rentabilidad de una empresa generalmente se basa en el estado de resultados, que informa sobre los resultados de las operaciones de la compañía;\n",
    "\n",
    "## 1.2 Estabilidad\n",
    "---\n",
    "La capacidad de la empresa para permanecer en el negocio a largo plazo, sin tener que soportar pérdidas significativas en la conducción de su negocio. La evaluación de la estabilidad de una empresa requiere el uso tanto del estado de resultados como del balance, así como de otros indicadores financieros y no financieros. etc.\n",
    "\n",
    "### 1.2.1 Solvencia\n",
    "La capacidad de pagar su obligación a los acreedores y otros terceros a largo plazo;\n",
    "\n",
    "### 1.2.2 Liquidez\n",
    "La capacidad para mantener un flujo de caja positivo, mientras cumple con las obligaciones inmediatas;\n",
    "\n",
    "## 1.3 Devaluación\n",
    "---\n",
    "La devaluación es la desaparición del valor nominal de una moneda corriente frente a otras monedas.\n",
    "\n",
    "## 1.3 Inflación\n",
    "---\n",
    "La devaluación es la desaparición del valor nominal de una moneda corriente frente a otras monedas.\n"
   ]
  },
  {
   "cell_type": "markdown",
   "metadata": {
    "colab_type": "text",
    "id": "-Rh3-Vt9Nev9"
   },
   "source": [
    "---\n",
    "## Mas Recursos\n",
    "- [Análisis financiero](https://es.wikipedia.org/wiki/An%C3%A1lisis_financiero) (Wikipedia)\n",
    "- [Riqueza](https://es.wikipedia.org/wiki/Riqueza) (Wikipedia)\n",
    "- [Desigualdad social](https://es.wikipedia.org/wiki/Desigualdad_social) (Wikipedia)\n",
    "- [Desigualdad de ingreso](https://es.wikipedia.org/wiki/Desigualdad_de_ingreso) (Wikipedia)\n",
    "- [Valuación](https://es.wikipedia.org/wiki/Valuaci%C3%B3n) (Wikipedia)"
   ]
  }
 ],
 "metadata": {
  "kernelspec": {
   "display_name": "Python 3.8.2 32-bit",
   "metadata": {
    "interpreter": {
     "hash": "dcfa17eba1dc66845e0904f61caf004065b70fa6c516601030b63e53c64813c1"
    }
   },
   "name": "python3"
  },
  "language_info": {
   "codemirror_mode": {
    "name": "ipython",
    "version": 3
   },
   "file_extension": ".py",
   "mimetype": "text/x-python",
   "name": "python",
   "nbconvert_exporter": "python",
   "pygments_lexer": "ipython3",
   "version": "3.9.9"
  }
 },
 "nbformat": 4,
 "nbformat_minor": 1
}
