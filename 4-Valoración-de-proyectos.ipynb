{
 "cells": [
  {
   "cell_type": "markdown",
   "metadata": {},
   "source": [
    "# Fundamentos de análisis financiero\n",
    "<p><code>Python en Jupyter Notebook</code></p>\n",
    "<p>Creado por <code>Giancarlo Ortiz</code> para el curso de <code>OYM</code></p>\n",
    "<style type=\"text/css\">\n",
    "    .formula {\n",
    "        background: #f7f7f7;\n",
    "        border-radius: 50px;\n",
    "        padding: 15px;\n",
    "    }\n",
    "    .border {\n",
    "        display: inline-block;\n",
    "        border: solid 1px rgba(204, 204, 204, 0.4);\n",
    "        border-bottom-color: rgba(187, 187, 187, 0.4);\n",
    "        border-radius: 3px;\n",
    "        box-shadow: inset 0 -1px 0 rgba(187, 187, 187, 0.4);\n",
    "        background-color: inherit !important;\n",
    "        vertical-align: middle;\n",
    "        color: inherit !important;\n",
    "        font-size: 11px;\n",
    "        padding: 3px 5px;\n",
    "        margin: 0 2px;\n",
    "    }\n",
    "</style>\n",
    "\n",
    "\n",
    "## 4. Evaluación de proyectos\n",
    "Se refiere a una evaluación de la rentabilidad y estabilidad de un proyecto para determinar su viabilidad.\n",
    "\n",
    "## Agenda\n",
    "1. Marco lógico\n",
    "1. Flujo económico\n",
    "1. Indicadores de rentabilidad\n",
    "1. Indicadores de eficiencia\n",
    "1. Indicadores de Costo mínimo\n"
   ]
  },
  {
   "cell_type": "code",
   "execution_count": 1,
   "metadata": {},
   "outputs": [],
   "source": [
    "# Importar módulos al cuaderno de Jupyter\n",
    "import numpy_financial as npf\n",
    "import pylab as pl"
   ]
  },
  {
   "cell_type": "markdown",
   "metadata": {},
   "source": [
    "## 4.1 Marco lógico\n",
    "--- \n",
    "* El enfoque de marco lógico, EML; s una herramienta analítica, desarrollada en 1979.\n",
    "* Util para la planificación de proyectos orientada al cumplimiento de objetivos, OOPP.\n",
    "* Consiste en sintetizar en la matriz del proyecto la información de factibilidad.\n",
    "* Incluye los objetivos y resultados esperados.\n",
    "* Incluye los recursos necesarios para desarrollar las actividades.\n",
    "* Incluye las métricas y los indicadores para evaluar un proyecto.\n",
    "\n",
    "\n",
    "![EML](img/logical-approach.png)\n",
    "\n",
    "## 4.2 Flujo económico\n",
    "---\n",
    "El flujo económico refleja el comportamiento de los flujos positivos y negativos en cada uno de los periodos del horizonte del proyecto, en el cual a partir de la diferencia entre esos dos componentes se obtiene un flujo neto de caja por cada periodo.\n",
    "\n",
    "A cada periodo se suman:\n",
    "+ Ingresos\n",
    "+ Inversiones\n",
    "+ Beneficios \n",
    "+ Créditos\n",
    "\n",
    "A cada periodo se restan:\n",
    "- Costos de pre-inversión\n",
    "- Costos de inversión\n",
    "- Costos de operación\n",
    "- Amortización\n",
    "\n",
    "![EML](img/flow.png)\n",
    "\n",
    "\n",
    "## 4.3 Indicadores de rentabilidad\n",
    "\n",
    "### 4.3.1 Valor Presente Neto \n",
    "* También conocido como valor actualizado neto o valor actual neto, [VAN][431].\n",
    "* Se define como al valor presente de los flujos de caja netos.\n",
    "* Representa la diferencia entre los beneficios y los costos de la alternativa analizada. \n",
    "* El indicador es válido si es mayor a cero.\n",
    "\n",
    "\\begin{equation*}\n",
    "VAN = \\sum _ { t=0 }^{ n } { \\frac{ V_t }{ (1+k)^{t} }}- I_0  \\\\\n",
    "\\end{equation*}\n",
    "\n",
    "\n",
    "[431]:https://es.wikipedia.org/wiki/Valor_actual_neto\n",
    "\n",
    "### 4.3.2 Tasa interna de rentabilidad\n",
    "* También conocido como valor tasa de rentabilidad interna o Tasa Interna de Retorno, [TIR][432].\n",
    "* Se define como la media geométrica de los rendimientos futuros esperados de dicha inversión.\n",
    "* Mide la retribución que se alcanzaría en el evento de que se re-invirtieran los fondos en la misma alternativa. \n",
    "* Debe ser mínimo del 12%, ya que ese es el valor mínimo __tasa de corte__ de la rentabilidad social esperada por un proyecto de inversión pública.\n",
    "\n",
    "[432]:https://es.wikipedia.org/wiki/Tasa_interna_de_retorno\n",
    "\n",
    "\\begin{equation*}\n",
    "\\sum _{ t=0 }^{ n } { \\frac{ V_{t} }{(1+k)^{t}}}- I_{0}  = 0\\\\\n",
    "\\end{equation*}\n",
    "\n",
    "### 4.3.3 Relación Beneficio Costo\n",
    "* Se define como una aproximación sistemática a la estimación de fortalezas y debilidades.\n",
    "* representa la relación existente entre el valor presente de los ingresos y el valor presente de los costos y las inversiones.\n",
    "* El indicador es válido si es mayor a 1\n",
    "\n",
    "\n",
    "\n",
    "## 4.4 Indicadores de eficiencia\n",
    "---\n",
    "* Son los costos relativos que tiene el proyecto por cada persona atendida con su operación.\n",
    "\n",
    "\n",
    "\n",
    "## 4.5 Indicadores de Costo mínimo\n",
    "---\n",
    "* Se utilizan cuando la vida útil de las alternativas es diferente.\n",
    "\n"
   ]
  },
  {
   "cell_type": "markdown",
   "metadata": {
    "colab_type": "text",
    "id": "-Rh3-Vt9Nev9"
   },
   "source": [
    "---\n",
    "## Mas Recursos\n",
    "\n",
    "- [Análisis financiero](https://es.wikipedia.org/wiki/An%C3%A1lisis_financiero) (Wikipedia)\n",
    "- [Valuación](https://es.wikipedia.org/wiki/Valuaci%C3%B3n) (Wikipedia)\n",
    "- [Margen operativo](https://es.wikipedia.org/wiki/Margen_operativo) (Wikipedia)\n",
    "- [Ebitda](https://es.wikipedia.org/wiki/Ebitda) (Wikipedia)\n",
    "- [Valuación de activos](https://es.wikipedia.org/wiki/Valuaci%C3%B3n) (Wikipedia)\n"
   ]
  }
 ],
 "metadata": {
  "kernelspec": {
   "display_name": "Python 3.8.2 32-bit",
   "metadata": {
    "interpreter": {
     "hash": "dcfa17eba1dc66845e0904f61caf004065b70fa6c516601030b63e53c64813c1"
    }
   },
   "name": "python3"
  },
  "language_info": {
   "codemirror_mode": {
    "name": "ipython",
    "version": 3
   },
   "file_extension": ".py",
   "mimetype": "text/x-python",
   "name": "python",
   "nbconvert_exporter": "python",
   "pygments_lexer": "ipython3",
   "version": "3.9.9"
  }
 },
 "nbformat": 4,
 "nbformat_minor": 1
}
