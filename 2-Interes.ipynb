{
 "cells": [
  {
   "cell_type": "markdown",
   "metadata": {},
   "source": [
    "# Fundamentos de análisis financiero\n",
    "<p><code>Python en Jupyter Notebook</code></p>\n",
    "<p>Creado por <code>Giancarlo Ortiz</code> para el curso de <code>OYM</code></p>\n",
    "<style type=\"text/css\">\n",
    "    .formula {\n",
    "        background: #f7f7f7;\n",
    "        border-radius: 50px;\n",
    "        padding: 15px;\n",
    "    }\n",
    "    .border {\n",
    "        display: inline-block;\n",
    "        border: solid 1px rgba(204, 204, 204, 0.4);\n",
    "        border-bottom-color: rgba(187, 187, 187, 0.4);\n",
    "        border-radius: 3px;\n",
    "        box-shadow: inset 0 -1px 0 rgba(187, 187, 187, 0.4);\n",
    "        background-color: inherit !important;\n",
    "        vertical-align: middle;\n",
    "        color: inherit !important;\n",
    "        font-size: 11px;\n",
    "        padding: 3px 5px;\n",
    "        margin: 0 2px;\n",
    "    }\n",
    "</style>\n",
    "\n",
    "\n",
    "## Interés\n",
    "Se refiere a una evaluación de la viabilidad, estabilidad y rentabilidad de un proyecto.\n",
    "\n",
    "## Agenda\n",
    "1. Interés simple\n",
    "1. Interés compuesto\n",
    "1. Variación del interés\n",
    "1. Tasa de interés efectiva\n",
    "1. Liquidación del interés"
   ]
  },
  {
   "cell_type": "code",
   "execution_count": 1,
   "metadata": {},
   "outputs": [],
   "source": [
    "# Importar módulos al cuaderno de Jupyter\n",
    "import numpy_financial as npf\n",
    "import pylab as pl\n",
    "\n",
    "\n",
    "# Definir e incluir nuevas funciones al cuaderno de Jupyter\n",
    "def incrementos(inicial: float, tasa: float, n: int) -> tuple:\n",
    "    ''' Funcion que calcula los incrementos progresivos de un valor presente '''\n",
    "    periodos = list(range(0, n+1))\n",
    "    valores = []\n",
    "    for periodo in periodos:\n",
    "        valores.append(-npf.fv(pv=inicial, rate=tasa, nper=periodo, pmt=0))\n",
    "\n",
    "    return periodos, valores\n",
    "\n",
    "\n",
    "def millones(x: int, pos) -> str:\n",
    "    \"\"\" Funcion que formatea los valores del un eje en moneda y en millones \"\"\"\n",
    "    return '${:1.1f}M'.format(x*1e-6)\n"
   ]
  },
  {
   "cell_type": "markdown",
   "metadata": {},
   "source": [
    "## 1.1 Interés simple\n",
    "Es el interés o beneficio que se obtiene de una inversión cuando los intereses producidos durante cada periodo de tiempo que dura la inversión se deben únicamente al capital inicial, ya que los beneficios o intereses no se capitalizan en cada uno de los periodos.\n",
    "\n",
    "\\begin{equation*}\n",
    "I_s = C \\cdot t_i \\cdot n  \\\\\n",
    "\\end{equation*}\n",
    "\n",
    ">Donde:\n",
    "> * $\\color{#a78a4d}{I_s}$ = Interés simple\n",
    "> * $\\color{#a78a4d}{C}$ = Capital\n",
    "> * $\\color{#a78a4d}{t_i}$ = Tasa por periodo\n",
    "> * $\\color{#a78a4d}{n}$ = Número de periodos\n",
    "\n",
    "\n",
    "## 1.2 Interés compuesto\n",
    "En el caso de la tasa de interés compuesta, los intereses obtenidos en cada período se suman al capital inicial para generar nuevos intereses, ya que los beneficios o intereses se capitalizan en cada uno de los periodos.\n",
    "\n",
    "\\begin{equation*}\n",
    "I_c = C [ (1+t_i)^n-1 ]  \\\\\n",
    "\\end{equation*}\n",
    "\n",
    ">Donde:\n",
    "> * $\\color{#a78a4d}{I_c}$ = Interés simple\n",
    "> * $\\color{#a78a4d}{C}$ = Capital\n",
    "> * $\\color{#a78a4d}{t_i}$ = Tasa por periodo\n",
    "> * $\\color{#a78a4d}{n}$ = Número de periodos\n",
    "\n",
    "\n",
    "### <code>Ejemplo:</code> Interés compuesto en inversión\n",
    "---\n",
    "Si Alberto invierte US$ 5.000 dolares en JPMorgan y obtiene un rendimiento del 1.8% mensual durante un período de tres años. \n",
    "* ¿Qué cantidad de intereses recibirá si retira cada año? \n",
    "* ¿Qué cantidad de intereses recibirá al final del tercer año?"
   ]
  },
  {
   "cell_type": "code",
   "execution_count": 2,
   "metadata": {},
   "outputs": [
    {
     "name": "stdout",
     "output_type": "stream",
     "text": [
      "----------------------------------\n",
      "| Tipo               | Interés   |\n",
      "----------------------------------\n",
      "| Simple por periodo |     90.00 |\n",
      "| Simple acumulado   |  3,240.00 |\n",
      "| Compuesto          |  4,503.64 |\n",
      "| Diferencia         |  1,263.64 |\n",
      "----------------------------------\n"
     ]
    }
   ],
   "source": [
    "# Ejemplo FV con python\n",
    "inversion = 5_000\n",
    "tasa = 1.8/100\n",
    "periodos = 3*12\n",
    "\n",
    "# Usando interés compuesto\n",
    "simple = inversion*tasa*periodos\n",
    "\n",
    "# Usando interés compuesto\n",
    "compuesto = inversion*((1+tasa)**periodos-1)\n",
    "\n",
    "# Salida estándar\n",
    "print(f\"-\"*34)\n",
    "print(f\"| Tipo               | Interés   |\")\n",
    "print(f\"-\"*34)\n",
    "print(f\"| Simple por periodo | {inversion*tasa:9,.2f} |\")\n",
    "print(f\"| Simple acumulado   | {simple:9,.2f} |\")\n",
    "print(f\"| Compuesto          | {compuesto:9,.2f} |\")\n",
    "print(f\"| Diferencia         | {compuesto-simple:9,.2f} |\")\n",
    "print(f\"-\"*34)\n"
   ]
  },
  {
   "cell_type": "markdown",
   "metadata": {},
   "source": [
    "## 1.3 Tasas de interés equivalentes\n",
    "* Dos tasas de interés pueden expresarse de modo distinto pero ser equivalentes.\n",
    "* Son equivalentes si con diferentes periodos de capitalización y en el mismo plazo producen igual interés.\n",
    "\n",
    "\\begin{equation*}\n",
    "t_n(n) = (1+t_m)^{ \\frac{n}{m}} -1  \\\\\n",
    "\\end{equation*}\n",
    "\n",
    "Donde:\n",
    ">   * $\\color{#a78a4d}{t_n}$ = tasa de interés por periodo $\\color{#a78a4d}{n}$\n",
    ">   * $\\color{#a78a4d}{t_m}$ = tasa de interés por periodo $\\color{#a78a4d}{m}$\n",
    ">   * $\\color{#a78a4d}{n}$ = cantidad de meses en el periodo n\n",
    ">   * $\\color{#a78a4d}{m}$ = cantidad de meses en el periodo m\n",
    "\n",
    "### 1.3.1 Ejemplos de algunas tasas de interés equivalente:\n",
    "* > __TIN:__  Cuando una tasa de interés compuesto aplicada a varios periodos se expresa como si se tratase de una tasa de interés simple aplicada a un solo periodo, esta equivalencia se denomina [tasa de interés nominal](https://es.wikipedia.org/wiki/Tipo_de_inter%C3%A9s_nominal) y se define por:\n",
    "\n",
    "\\begin{equation*}\n",
    "TIN = t_n(1) = (1+t_m)^{ \\frac{1}{m}} -1  \\\\\n",
    "\\end{equation*}\n",
    "\n",
    "\n",
    "* > __TAE:__  Cuando una tasa de interés nominal se expresa como si se tratase de una tasa de interés compuesto aplicada en periodos de un año, esta equivalencia se denomina [tasa de interés anual equivalente](https://es.wikipedia.org/wiki/Tasa_anual_equivalente) y se define por:\n",
    "\n",
    "\\begin{equation*}\n",
    "TAE = (1+\\frac{t_n}{n})^{n} -1  \\\\\n",
    "\\end{equation*}\n",
    "\n",
    "* > __TE:__  Cuando se calcula la tasa de interés como la razón del valo entre el valor inicial en todo el periodo de operación financiera, esta equivalencia se denomina [tasa de interés efectivo](https://es.wikipedia.org/wiki/Tipo_de_inter%C3%A9s_efectivo) y se define por:\n",
    "\n",
    "\\begin{equation*}\n",
    "TE = \\frac{V_f - V_i}{V_i}  \\\\\n",
    "\\end{equation*}\n",
    "\n",
    "\n",
    "### <code>Ejemplo:</code> Tasa de interés CDT\n",
    "---\n",
    "Un certificado de depósito a término fijo, [CDT][1141]; es un título valor que te ofrece la posibilidad de guardar tu dinero durante un tiempo determinado para recibir intereses a una tasa fija y una rentabilidad libre de riesgo por tiempos no inferiores a 30 días.\n",
    "\n",
    "---\n",
    "Encontrar las tasas equivalentes al 3.45% (E.A.) para capitalización [CDT][1141] a 180 días mínimo:\n",
    "* Semestral \n",
    "* Trimestral\n",
    "* Mensual\n",
    "\n",
    "[1141]:https://www.bancolombia.com/personas/productos-servicios/inversiones/inversion-virtual?gclid=Cj0KCQiA6NOPBhCPARIsAHAy2zAvJ7qRdM1BvTXRpCGQ1_C84zILI4T66lN6zC-2BAEu4MMBA9GriCgaAuwmEALw_wcB"
   ]
  },
  {
   "cell_type": "code",
   "execution_count": 3,
   "metadata": {},
   "outputs": [
    {
     "name": "stdout",
     "output_type": "stream",
     "text": [
      "----------------------------------\n",
      "| Tasas equivalentes | Interés   |\n",
      "----------------------------------\n",
      "| Tasa Mensual       |     0.28% |\n",
      "| Tasa Trimestral    |     0.85% |\n",
      "| Tasa Semestral     |     1.71% |\n",
      "| Tasa Anual         |     3.45% |\n",
      "----------------------------------\n"
     ]
    }
   ],
   "source": [
    "tasa_anual = 3.45/100\n",
    "\n",
    "# Define funciones\n",
    "def tasa_equivalente(tasa: float, nper: int, mper: int) -> float:\n",
    "    ''' Funcion para calcular una tasa equivalente '''\n",
    "    return (1+tasa)**(nper/mper)-1\n",
    "\n",
    "\n",
    "# Calcular las tasas de interés equivalentes\n",
    "tasa_semestral = tasa_equivalente(tasa_anual, 6, 12)\n",
    "tasa_trimestral = tasa_equivalente(tasa_anual, 3, 12)\n",
    "tasa_mensual = tasa_equivalente(tasa_anual, 1, 12)\n",
    "\n",
    "# Salida estándar\n",
    "print(f\"-\"*34)\n",
    "print(f\"| Tasas equivalentes | Interés   |\")\n",
    "print(f\"-\"*34)\n",
    "print(f\"| Tasa Mensual       | {100*tasa_mensual:8,.2f}% |\")\n",
    "print(f\"| Tasa Trimestral    | {100*tasa_trimestral:8,.2f}% |\")\n",
    "print(f\"| Tasa Semestral     | {100*tasa_semestral:8,.2f}% |\")\n",
    "print(f\"| Tasa Anual         | {100*tasa_anual:8,.2f}% |\")\n",
    "print(f\"-\"*34)\n"
   ]
  },
  {
   "cell_type": "markdown",
   "metadata": {},
   "source": [
    "### <code>Ejemplo:</code> Tasa de interés tarjeta de crédito\n",
    "---\n",
    "Una tarjeta de crédito es un instrumento material de identificación emitido por una entidad financiera y que autoriza a su beneficiario a utilizarla como medio de pago en los negocios adheridos al sistema, mediante su firma y la exhibición de la tarjeta; de forma que al usarla adquiere una obligación financiera con la entidad.\n",
    "\n",
    "---\n",
    "Encontrar las tasas equivalentes al 1.99775% mensual que se paga por compras con [Tarjeta de crédito Mastercard][1142]:\n",
    "* Trimestral\n",
    "* Semestral \n",
    "* Anual\n",
    "\n",
    "Source: [Tarifas](https://www.bancolombia.com/personas/tarifario)\n",
    "\n",
    "[1142]:https://www.bancolombia.com/personas/tarjetas-de-credito/mastercard/clasica"
   ]
  },
  {
   "cell_type": "code",
   "execution_count": 4,
   "metadata": {},
   "outputs": [
    {
     "name": "stdout",
     "output_type": "stream",
     "text": [
      "----------------------------------\n",
      "| Tasas equivalentes | Interés   |\n",
      "----------------------------------\n",
      "| Tasa Mensual       |     1.28% |\n",
      "| Tasa Trimestral    |     3.89% |\n",
      "| Tasa Semestral     |     7.93% |\n",
      "| Tasa Anual         |    16.49% |\n",
      "----------------------------------\n"
     ]
    }
   ],
   "source": [
    "tasa_mensual = 1.28/100\n",
    "\n",
    "\n",
    "# Calcular las tasas de interés equivalentes\n",
    "tasa_trimestral = tasa_equivalente(tasa_mensual, 3, 1)\n",
    "tasa_semestral = tasa_equivalente(tasa_mensual, 6, 1)\n",
    "tasa_anual = tasa_equivalente(tasa_mensual, 12, 1)\n",
    "\n",
    "\n",
    "# Salida estándar\n",
    "print(f\"-\"*34)\n",
    "print(f\"| Tasas equivalentes | Interés   |\")\n",
    "print(f\"-\"*34)\n",
    "print(f\"| Tasa Mensual       | {100*tasa_mensual:8,.2f}% |\")\n",
    "print(f\"| Tasa Trimestral    | {100*tasa_trimestral:8,.2f}% |\")\n",
    "print(f\"| Tasa Semestral     | {100*tasa_semestral:8,.2f}% |\")\n",
    "print(f\"| Tasa Anual         | {100*tasa_anual:8,.2f}% |\")\n",
    "print(f\"-\"*34)\n"
   ]
  },
  {
   "cell_type": "markdown",
   "metadata": {},
   "source": [
    "## 1.4 Variación del interés\n",
    "Para corregir fluctuaciones económicas existen modelos de interés que varían la tasa en el tiempo en que se aplica.\n",
    "\n",
    "| # | __Fijo__ | __Variable__ |\n",
    "|:---:|---|---|\n",
    "| 1 | No cambia a lo largo del tiempo | Va cambiando a lo largo del tiempo |\n",
    "| 2 | No depende de ninguna variable económica | Depende de variables que afectan el valor del dinero como la inflación |\n",
    "| 3 | Resultara en una cuota fija o variable | Dará como resultado una cuota variable |\n",
    "| _E_ | _Ejemplo:_ | _Ejemplo:_ |\n",
    "| 4 | Crédito hipotecario en pesos | Crédito hipotecario en [UVR][132] |\n",
    "\n",
    "[132]:http://www.banrep.gov.co/es/estadisticas/unidad-valor-real-uv\n",
    "\n",
    "### 1.4.1 Crédito hipotecario\n",
    "* El crédito hipotecario es un tipo de crédito respaldado.\n",
    "* Normalmente dirigido a la adquisición de vienes inmuebles.\n",
    "* Este crédito está respaldado por una garantía hipotecaria.\n",
    "* Si el deudor del crédito no pudiera pagar las cuotas, podría perder el activo hipotecado. \n",
    "* La cuantía máxima del crédito será el valor del inmueble\n",
    "* Los créditos para vivienda con valor comercial menor a 135/150 [SMMLV][1411] tienen categoría VIS.\n",
    "* Los créditos [VIS][1412] tienen subsidios y tarifas preferenciales.\n",
    "\n",
    "[1411]:https://www.banrep.gov.co/es/estadisticas/salarios\n",
    "[1412]:https://www.minvivienda.gov.co/viceministerio-de-vivienda/vis-y-vip\n",
    "\n",
    "\n",
    "#### 1.4.1.1 Tipos de crédito hipotecario\n",
    "\n",
    "| # | __Tipo__ | __Detalle__ | __Descripción__ |\n",
    "|:---:|---|---|---|\n",
    "| 1 | Pesos | Cuota constante | Cuota constante |\n",
    "| 2 | Pesos | Amortización constante | Cuotas cada vez menores |\n",
    "| 3 | UVR | Cuota constante | Cuotas crece con la inflación |\n",
    "| 4 | UVR | Amortización constante | Cuotas cada vez menores |\n",
    "| 5 | UVR | Cuota Cíclica | Incrementos anuales |\n",
    "\n",
    "\n",
    "### <code>Ejemplo:</code> Crédito hipotecario de vivienda\n",
    "---\n",
    "Lina Murcia que dispone de 60 Millones de pesos solicitó un [crédito hipotecario de vivienda][151] a 10 años para comprar una casa avaluada en 200 Millones de pesos; obtener la información que proporciona el simulador para:\n",
    "\n",
    "* Cuota mensual para crédito cuota constante en pesos con una TAE de $\\color{#a78a4d}{8.9 \\%}$ mes vencido igual a $ 1.740.021,35 __pesos__\n",
    "* Cuota mensual para crédito cuota constante en UVR con una tasa $\\color{#a78a4d}{UVR + 6.5 \\%}$ igual a 5.389,93 __UVR__\n",
    "* Primera cuota mensual del primer, quinto y ultimo año para crédito amortización constante en UVR con una tasa $\\color{#a78a4d}{UVR + 6.5 \\%}$ iguales a:\n",
    "    * __Primera cuota:__ 6.481,84 UVR o $ 1.875.825,92 __pesos__\n",
    "    * __Quinta cuota:__ 5.501,72 UVR o $ 1.595.541,68 __pesos__\n",
    "    * __Décima cuota:__ 4.276,58 UVR o $ 1.243.511,16 __pesos__\n",
    "\n",
    "Source: [Tarifas](https://www.bancolombia.com/personas/tarifario)\n",
    "\n",
    "[151]:https://www.bancolombia.com/personas/creditos/vivienda/simulador-credito-vivienda\n"
   ]
  },
  {
   "cell_type": "code",
   "execution_count": 7,
   "metadata": {},
   "outputs": [
    {
     "name": "stdout",
     "output_type": "stream",
     "text": [
      "----------------------------------------------------------------------\n",
      "|               Detalle              |             Valor             |\n",
      "----------------------------------------------------------------------\n",
      "| Cuota fija en pesos                | COP$                 6,728.67 |\n",
      "| Cuota fija en UVR                  | UVR                     10.00 |\n",
      "| 1ra cuota amortización fija  UVR   | UVR                     10.00 |\n",
      "| 5ta cuota amortización fija  UVR   | UVR                     10.00 |\n",
      "| 10ma cuota amortización fija  UVR  | UVR                     10.00 |\n",
      "----------------------------------------------------------------------\n"
     ]
    },
    {
     "data": {
      "text/plain": [
       "0.007130287299957683"
      ]
     },
     "execution_count": 7,
     "metadata": {},
     "output_type": "execute_result"
    }
   ],
   "source": [
    "valor_vivienda = 200_000_000\n",
    "cuota_inicial = 60_000_000\n",
    "tae = 8.9/100\n",
    "inflacion = 6.5\n",
    "periodos = 10*12\n",
    "\n",
    "def cuota_variable_uvr(n:int)->float:\n",
    "    uvr = 10.0\n",
    "    return uvr\n",
    "\n",
    "# Calculos\n",
    "tasa = tasa_equivalente(tae, 1, 12)\n",
    "solicitado = valor_vivienda - cuota_inicial\n",
    "cuota_fija_pesos = inversion*((1+tasa)**periodos-1)\n",
    "cuota_fija_uvr = 10\n",
    "\n",
    "\n",
    "# Salida estándar\n",
    "print(f\"-\"*70)\n",
    "print(f\"| \" + \"Detalle\".center(35) + \"|\" + \"Valor\".center(31) + \"|\")\n",
    "print(f\"-\"*70)\n",
    "print(f\"| Cuota fija en pesos                | COP$ {cuota_fija_pesos:24,.2f} |\")\n",
    "print(f\"| Cuota fija en UVR                  | UVR  {cuota_fija_uvr:24,.2f} |\")\n",
    "print(f\"| 1ra cuota amortización fija  UVR   | UVR  {cuota_variable_uvr(1):24,.2f} |\")\n",
    "print(f\"| 5ta cuota amortización fija  UVR   | UVR  {cuota_variable_uvr(5):24,.2f} |\")\n",
    "print(f\"| 10ma cuota amortización fija  UVR  | UVR  {cuota_variable_uvr(10):24,.2f} |\")\n",
    "print(f\"-\"*70)\n",
    "tasa"
   ]
  },
  {
   "cell_type": "markdown",
   "metadata": {},
   "source": [
    "\n",
    "## 1.5 Liquidación del interés\n",
    "Si la __capitalización__ es el momento en el que se agrega el interés generado en un periodo al capital, existe un modelo de interés de [__tasa nominal__](https://es.wikipedia.org/wiki/Inter%C3%A9s) que no se liquida en la unidad de tiempo que lo define; en su lugar se liquida por fracción de la unidad de tiempo; para evitar que se confunda con el interés efectivo $i$ el símbolo internacional para el interés nominal es la letra $j(m)$, donde $m$ es el número de pagos del interés por unidad de tiempo.\n",
    "\n",
    "\\begin{equation*}\n",
    "i_n = (1+\\frac{j}{m})^{ \\frac{n}{m}} -1  \\\\\n",
    "\\end{equation*}\n",
    "\n",
    "\\begin{equation*}\n",
    "j(n) = j(m) \\frac{n}{m} \\\\\n",
    "\\end{equation*}"
   ]
  },
  {
   "cell_type": "markdown",
   "metadata": {
    "colab_type": "text",
    "id": "-Rh3-Vt9Nev9"
   },
   "source": [
    "---\n",
    "## Mas Recursos\n",
    "- [Rentabilidad económica](https://es.wikipedia.org/wiki/Rentabilidad_econ%C3%B3mica) (Wikipedia)\n",
    "- [Rentabilidad financiera](https://es.wikipedia.org/wiki/Rentabilidad_financiera) (Wikipedia)\n",
    "- [Margen operativo](https://es.wikipedia.org/wiki/Margen_operativo) (Wikipedia)\n",
    "- [Ebitda](https://es.wikipedia.org/wiki/Ebitda) (Wikipedia)\n"
   ]
  }
 ],
 "metadata": {
  "kernelspec": {
   "display_name": "Python 3.8.2 32-bit",
   "metadata": {
    "interpreter": {
     "hash": "dcfa17eba1dc66845e0904f61caf004065b70fa6c516601030b63e53c64813c1"
    }
   },
   "name": "python3"
  },
  "language_info": {
   "codemirror_mode": {
    "name": "ipython",
    "version": 3
   },
   "file_extension": ".py",
   "mimetype": "text/x-python",
   "name": "python",
   "nbconvert_exporter": "python",
   "pygments_lexer": "ipython3",
   "version": "3.9.9"
  }
 },
 "nbformat": 4,
 "nbformat_minor": 1
}
