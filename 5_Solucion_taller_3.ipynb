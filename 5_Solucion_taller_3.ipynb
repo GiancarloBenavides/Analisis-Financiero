{
 "cells": [
  {
   "cell_type": "code",
   "execution_count": 1,
   "metadata": {},
   "outputs": [],
   "source": [
    "import math\n",
    "import numpy as np\n",
    "import numpy_financial as npf"
   ]
  },
  {
   "cell_type": "code",
   "execution_count": 2,
   "metadata": {},
   "outputs": [],
   "source": [
    "# Define funciones\n",
    "def tasa_equivalente(tasa: float, nper: int, mper: int) -> float:\n",
    "    ''' Funcion para calcular la equivalencia entre os tasas '''\n",
    "    return (1+tasa)**(nper/mper)-1"
   ]
  },
  {
   "cell_type": "code",
   "execution_count": 3,
   "metadata": {},
   "outputs": [
    {
     "name": "stdout",
     "output_type": "stream",
     "text": [
      "deberías invertir : 101,943,265.91\n"
     ]
    }
   ],
   "source": [
    "# 1\n",
    "periodos = 10\n",
    "valor_futuro = 380_000_000\n",
    "tasa_semestral = 6.8/100\n",
    "tasa_anual = tasa_equivalente(tasa_semestral, 12, 6) \n",
    "valor_presente = npf.pv(tasa_anual, 10, 0,valor_futuro)\n",
    "print(f\"deberías invertir : {-valor_presente:,.2f}\")"
   ]
  },
  {
   "cell_type": "code",
   "execution_count": 4,
   "metadata": {},
   "outputs": [
    {
     "name": "stdout",
     "output_type": "stream",
     "text": [
      "tasa diaria equivalente : 0.0477%\n"
     ]
    }
   ],
   "source": [
    "# 5\n",
    "tasa_anual = 19/100\n",
    "tasa_diaria = tasa_equivalente(tasa_anual, 1, 365)\n",
    "print(f\"tasa diaria equivalente : {100*tasa_diaria:,.4f}%\")"
   ]
  },
  {
   "cell_type": "code",
   "execution_count": 5,
   "metadata": {},
   "outputs": [
    {
     "name": "stdout",
     "output_type": "stream",
     "text": [
      "tasa anual equivalente : 36.05%\n"
     ]
    }
   ],
   "source": [
    "# 7\n",
    "tasa_anual_nominal = 32/100\n",
    "tasa_trimestral_efectiva = tasa_anual_nominal/4\n",
    "tae = tasa_equivalente(tasa_trimestral_efectiva, 4, 1)\n",
    "print(f\"tasa anual equivalente : {100*tae:,.2f}%\")\n"
   ]
  },
  {
   "cell_type": "code",
   "execution_count": 6,
   "metadata": {},
   "outputs": [
    {
     "name": "stdout",
     "output_type": "stream",
     "text": [
      "tasa anual equivalente : 4,072,496,400.00%\n"
     ]
    }
   ],
   "source": [
    "# 8\n",
    "capital_objetivo = 1_000_000\n",
    "trm = 3_953.88\n",
    "tae = 3/100\n",
    "pesos = capital_objetivo * trm * (1+tae)\n",
    "print(f\"tasa anual equivalente : {pesos:,.2f}%\")"
   ]
  }
 ],
 "metadata": {
  "kernelspec": {
   "display_name": "Python 3.8.2 32-bit",
   "metadata": {
    "interpreter": {
     "hash": "dcfa17eba1dc66845e0904f61caf004065b70fa6c516601030b63e53c64813c1"
    }
   },
   "name": "python3"
  },
  "language_info": {
   "codemirror_mode": {
    "name": "ipython",
    "version": 3
   },
   "file_extension": ".py",
   "mimetype": "text/x-python",
   "name": "python",
   "nbconvert_exporter": "python",
   "pygments_lexer": "ipython3",
   "version": "3.9.10"
  },
  "orig_nbformat": 2
 },
 "nbformat": 4,
 "nbformat_minor": 2
}
